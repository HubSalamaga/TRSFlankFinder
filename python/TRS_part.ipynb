{
 "cells": [
  {
   "cell_type": "code",
   "execution_count": 1,
   "metadata": {},
   "outputs": [],
   "source": [
    "import cffi\n",
    "import os\n",
    "import numpy as np\n",
    "import pandas as pd\n",
    "from Bio import SeqIO\n",
    "from Bio import Entrez\n",
    "import time\n",
    "import argparse\n",
    "import sys\n",
    "from src.SequenceProcessor import SequenceProcessor\n",
    "from src.FileHandler import FileHandler\n",
    "from src.pytrsomix import SeqAnalyzer,TRScalculator\n",
    "from src.stats import Stats\n",
    "from src.BlastProcessor import BLASTProcessor\n",
    "import pathlib"
   ]
  },
  {
   "cell_type": "code",
   "execution_count": null,
   "metadata": {},
   "outputs": [],
   "source": []
  },
  {
   "cell_type": "code",
   "execution_count": 4,
   "metadata": {},
   "outputs": [],
   "source": [
    "cdhit_clusters_file = \"/home/hubert/TRS-omix_new/python/klebsiella_results_L100_R100_c0.8/cd-hit-results/combined_sequences_unique_cdhit.clstr\"\n",
    "input_fasta = \"/home/hubert/TRS-omix_new/python/klebsiella_results_L100_R100_c0.8/TRS_output/combined_sequences_unique.fasta\"\n",
    "output_folder_cluster = \"/home/hubert/TRS-omix_new/python/klebsiella_results_L100_R100_c0.8/cd-hit-results/fasta_clusters\"\n",
    "results_directory = '/home/hubert/TRS-omix_new/python/klebsiella_results_L100_R100_c0.8/'\n",
    "#FileHandler.create_fasta_for_all_clusters(cdhit_clusters_file, input_fasta, output_folder_cluster, create_individual_files=True)"
   ]
  },
  {
   "cell_type": "code",
   "execution_count": 5,
   "metadata": {},
   "outputs": [
    {
     "name": "stdout",
     "output_type": "stream",
     "text": [
      "Directory /home/hubert/TRS-omix_new/python/klebsiella_results_L100_R100_c0.8/filtered_sequences already exists\n",
      "Copied and renamed /home/hubert/TRS-omix_new/python/klebsiella_results_L100_R100_c0.8/cd-hit-results/fasta_clusters/cluster_size_1.fasta to /home/hubert/TRS-omix_new/python/klebsiella_results_L100_R100_c0.8/filtered_sequences/not_in_clusters_combined_sequences_unique.fasta\n"
     ]
    }
   ],
   "source": [
    "cluster_size_1_fasta = os.path.join(output_folder_cluster, \"cluster_size_1.fasta\")\n",
    "sequences_after_clusters_filtering_folder = os.path.join(results_directory, \"filtered_sequences\")\n",
    "FileHandler.ensure_directory_exists(sequences_after_clusters_filtering_folder)\n",
    "renamed_fasta_file = os.path.join(sequences_after_clusters_filtering_folder, \"not_in_clusters_combined_sequences_unique.fasta\")\n",
    "\n",
    "try:\n",
    "    with open(cluster_size_1_fasta, 'rb') as src_file, open(renamed_fasta_file, 'wb') as dest_file:\n",
    "        dest_file.write(src_file.read())\n",
    "    print(f\"Copied and renamed {cluster_size_1_fasta} to {renamed_fasta_file}\")\n",
    "except FileNotFoundError:\n",
    "    print(f\"Error: {cluster_size_1_fasta} not found.\")\n",
    "except PermissionError:\n",
    "    print(f\"Error: Permission denied when accessing {cluster_size_1_fasta} or {renamed_fasta_file}.\")\n",
    "except Exception as e:\n",
    "    print(f\"An error occurred: {e}\")"
   ]
  },
  {
   "cell_type": "code",
   "execution_count": null,
   "metadata": {},
   "outputs": [],
   "source": [
    "#Process BLAST analysis results\n",
    "blast_output_path = \"/home/hubert/TRS-omix_new/python/viruses_results_L100_R100_c0.8/blast_output_2nd_pass\"\n",
    "FileHandler.convert_to_txt(blast_output_path) #convert output to .txt format\n",
    "FileHandler.filter_and_overwrite_blast_file(blast_output_path) # Filter and overwrite BLAST results file\n",
    "modified_blast_path = os.path.join(blast_output_path, \"modified_blast\")\n",
    "FileHandler.ensure_directory_exists(modified_blast_path)\n",
    "blast_results_folder_2nd_pass = blast_output_path\n"
   ]
  },
  {
   "cell_type": "code",
   "execution_count": null,
   "metadata": {},
   "outputs": [],
   "source": [
    "#Collect accessions from BLAST result files\n",
    "accessions = BLASTProcessor.collect_accessions_from_blast_files(blast_output_path)\n",
    "\n",
    "taxonomy_db = \"/home/hubert/TRS-omix_new/python/taxonomy_16_08\"\n",
    "taxonomy_db = os.path.join(taxonomy_db,\"nucl_gb.accession2taxid.gz\") #we already did that \n",
    "tax_df = SequenceProcessor.filter_taxonomy_file(taxonomy_db, accessions)\n",
    "print(\"Collected Accessions:\", accessions)\n",
    "print(\"Filtered Taxonomy DataFrame:\\n\", tax_df)"
   ]
  },
  {
   "cell_type": "code",
   "execution_count": null,
   "metadata": {},
   "outputs": [],
   "source": [
    "# Create a mapping between accession numbers and taxids\n",
    "print(f\"Creating a mapping between accessions and taxids....\")\n",
    "taxid_accessions_dict = {}\n",
    "for index, row in tax_df.iterrows():\n",
    "    accession = row[tax_df.columns[0]]\n",
    "    taxid = row[tax_df.columns[1]]\n",
    "\n",
    "    if taxid in taxid_accessions_dict:\n",
    "        taxid_accessions_dict[taxid].append(accession)\n",
    "    else:\n",
    "        taxid_accessions_dict[taxid] = [accession]\n",
    "\n",
    "accession_to_taxid = {accession: taxid for taxid, accessions in taxid_accessions_dict.items() for accession in accessions}"
   ]
  },
  {
   "cell_type": "code",
   "execution_count": null,
   "metadata": {},
   "outputs": [],
   "source": [
    "# Append taxids as a new column to BLAST result files\n",
    "print(f\"Appending a new column with taxids to the blast files.....\")\n",
    "BLASTProcessor.match_accessions_to_taxids_and_add_column(\n",
    "    blast_output_path,\n",
    "    modified_blast_path,\n",
    "    lambda accession: BLASTProcessor.map_accession_to_taxid(accession, accession_to_taxid)\n",
    ")"
   ]
  },
  {
   "cell_type": "code",
   "execution_count": null,
   "metadata": {},
   "outputs": [],
   "source": [
    "#Filter and clean the taxonomic mapping\n",
    "result_file = \"/home/hubert/TRS-omix_new/python/viruses_results_L100_R100_c0.8/TRS_output/viruses_results.csv\"\n",
    "combined_results = pd.read_csv(result_file)\n",
    "ncbi_ids = combined_results[\"GENOME\"].unique().tolist()\n",
    "tax_map = SequenceProcessor.fetch_organism_taxids(ncbi_ids) #same as above\n",
    "\n",
    "filtered_organism_taxid_map = {SequenceProcessor.filter_key_parts(key): value for key, value in tax_map.items()}\n",
    "print(f\"Species - taxid pairs detected in dataset : {filtered_organism_taxid_map}\")\n",
    "\n",
    "#Append taxid information to the filtered map\n",
    "species_info = BLASTProcessor.append_taxids_to_filtered_map(filtered_organism_taxid_map)\n",
    "\n",
    "\n",
    "#Interact and update the taxid-accession map using the provided NCBI IDs or file\n",
    "BLASTProcessor.interact_and_update_dict(filtered_organism_taxid_map,ncbi_ids_list=None,file_path=None)\n",
    "\n",
    "species_info = BLASTProcessor.append_taxids_to_filtered_map(filtered_organism_taxid_map)\n",
    "species_info = {SequenceProcessor.filter_key_parts(key): value for key, value in species_info.items()}\n",
    "\n",
    "# Prepare NaN file path for storing the results with missing acessions\n",
    "'''The blast db or taxonomy database is out of date if there are entries here, the problem is that the internal ncbi database gets updated much more\n",
    "frequently that the ones available for download, to remedy that atleast partially some way to user database to available online could be introduced'''\n",
    "nan_file = os.path.join(modified_blast_path,\"NaN acessions.csv\")\n",
    "\n",
    "# Construct a dictionary of all taxid - acessions pairs in our data\n",
    "results_dict = BLASTProcessor.construct_dict_from_files(modified_blast_path,nan_file)"
   ]
  },
  {
   "cell_type": "code",
   "execution_count": null,
   "metadata": {},
   "outputs": [],
   "source": [
    "#Convert all values in the results and species info to integers\n",
    "for key, value_set in results_dict.items():\n",
    "    results_dict[key] = {int(val) for val in value_set}    \n",
    "    \n",
    "for key, value_set in species_info.items():\n",
    "    species_info[key] = {int(val) for val in value_set}  \n",
    "\n",
    "#Perform filtering based on the exceptions and matching taxid criteria\n",
    "exceptions = BLASTProcessor.ask_for_exception(exception_ids=None,file_path=None)\n",
    "if exceptions:\n",
    "    print(f\"Exceptions to filtering added: {exceptions}\")\n",
    "else:\n",
    "    print(f\"No exceptions provided!\")\n",
    "print(\"Filtering keys....\")\n",
    "filtered_keys = BLASTProcessor.filter_with_exceptions(results_dict,species_info,exceptions)\n",
    "filtered_keys_final = BLASTProcessor.unpack_single_element_sets(filtered_keys)\n",
    "\n",
    "#Process the filtered BLAST result files \n",
    "print(\"Filtering files...\")\n",
    "FileHandler.process_files_with_filter(modified_blast_path,filtered_keys_final)\n",
    "\n",
    "#Save the file from this into final_results or smth\n",
    "results_directory = \"/home/hubert/TRS-omix_new/python/viruses_results_L100_R100_c0.8/\"\n",
    "#Find the filtered FASTA file that contains all sequences(but unique)\n",
    "filtered_fasta_file = FileHandler.find_file_by_name('unique_taxids_full_sequences_blastn_out.txt',folder= blast_results_folder_2nd_pass)\n",
    "filtered_fasta_file = pathlib.Path(filtered_fasta_file[0])\n",
    "\n",
    "# #Ensure the output directory exists for storing of filtred results \n",
    "output_directory = os.path.join(results_directory,\"final_results\")\n",
    "FileHandler.ensure_directory_exists(output_directory)\n",
    "BLASTProcessor.extract_full_TRS_sequences(combined_results,filtered_fasta_file,results_directory,state=2)"
   ]
  },
  {
   "cell_type": "code",
   "execution_count": 3,
   "metadata": {},
   "outputs": [
    {
     "name": "stdout",
     "output_type": "stream",
     "text": [
      "Following fasta files were found in /home/hubert/TRS-omix_new/python/viruses_results_L100_R100_c0.8 : ['full_sequences_final.fasta', 'full_sequences.fasta', 'combined_sequences.fasta', 'combined_sequences_unique.fasta', 'not_in_clusters_combined_sequences_unique.fasta']\n",
      "['/home/hubert/TRS-omix_new/python/viruses_results_L100_R100_c0.8/final_results/full_sequences_final.fasta']\n"
     ]
    },
    {
     "data": {
      "image/png": "[encoded data removed]",
      "text/plain": [
       "<Figure size 1440x432 with 2 Axes>"
      ]
     },
     "metadata": {
      "needs_background": "light"
     },
     "output_type": "display_data"
    }
   ],
   "source": [
    "results_directory = \"/home/hubert/TRS-omix_new/python/viruses_results_L100_R100_c0.8\"\n",
    "fasta_files_for_plotting = FileHandler.search_for_files(results_directory,'*.fasta')\n",
    "fasta_files_for_plotting_names = FileHandler.extract_file_names(fasta_files_for_plotting)\n",
    "print(f\"Following fasta files were found in {results_directory} : {fasta_files_for_plotting_names}\")\n",
    "statistics = Stats()\n",
    "for fasta_path in fasta_files_for_plotting:\n",
    "    statistics.count_L_R(fasta_path)\n",
    "file_paths = [file_path for file_path in fasta_files_for_plotting if file_path in statistics.file_info]\n",
    "names_to_filter = [\"full_sequences_final.fasta\"]\n",
    "file_paths = [file_path for file_path in file_paths if os.path.basename(file_path) in names_to_filter]\n",
    "print(f\"{file_paths}\")\n",
    "# Dictionary to store titles for each file path\n",
    "file_titles = {}\n",
    "\n",
    "# Populate file_titles dictionary using file_paths list\n",
    "for file_path in file_paths:\n",
    "# Extract file name from file path\n",
    "    file_name = os.path.basename(file_path)\n",
    "\n",
    "# Construct default title based on file name\n",
    "default_title = f\"Title for {file_name}\"\n",
    "\n",
    "# Add entry to file_titles dictionary\n",
    "file_titles[file_path] = default_title\n",
    "\n",
    "statistics.plot_lr_counts(file_paths=file_paths,file_titles=file_titles,results_directory=results_directory)"
   ]
  }
 ],
 "metadata": {
  "kernelspec": {
   "display_name": "TRS",
   "language": "python",
   "name": "python3"
  },
  "language_info": {
   "codemirror_mode": {
    "name": "ipython",
    "version": 3
   },
   "file_extension": ".py",
   "mimetype": "text/x-python",
   "name": "python",
   "nbconvert_exporter": "python",
   "pygments_lexer": "ipython3",
   "version": "3.6.13"
  }
 },
 "nbformat": 4,
 "nbformat_minor": 2
}
